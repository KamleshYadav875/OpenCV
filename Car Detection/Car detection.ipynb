{
 "cells": [
  {
   "cell_type": "code",
   "execution_count": 1,
   "metadata": {},
   "outputs": [],
   "source": [
    "import cv2 # import opencv"
   ]
  },
  {
   "cell_type": "code",
   "execution_count": 2,
   "metadata": {},
   "outputs": [],
   "source": [
    "car =cv2.CascadeClassifier(\"cars.xml\") # cars cascade "
   ]
  },
  {
   "cell_type": "code",
   "execution_count": 3,
   "metadata": {},
   "outputs": [],
   "source": [
    "cap = cv2.VideoCapture(\"video.avi\") # capture video"
   ]
  },
  {
   "cell_type": "code",
   "execution_count": 4,
   "metadata": {},
   "outputs": [],
   "source": [
    "while True:\n",
    "    re, frame = cap.read() # reading frame from video\n",
    "    if (type(frame) == type(None)): # if no frame in then break the loop\n",
    "        break\n",
    "    gray = cv2.cvtColor(frame, cv2.COLOR_BGR2GRAY) # convert color frame to gray\n",
    "    cars = car.detectMultiScale(gray, 1.4,2) # detecting cars in frame\n",
    "    for (x, y, w, h) in cars:\n",
    "        cv2.rectangle(frame, (x,y), (x+w, y+h), (255,255,0), 2) # draw rectangle if there is any car in frame\n",
    "        cv2.imshow(\"cars\", frame) # display  frame\n",
    "        \n",
    "    if cv2.waitKey(1) == 13: # if enter is pressed then break loop\n",
    "        break\n",
    "cap.release()\n",
    "cv2.destroyAllWindows()"
   ]
  }
 ],
 "metadata": {
  "kernelspec": {
   "display_name": "Python 3",
   "language": "python",
   "name": "python3"
  },
  "language_info": {
   "codemirror_mode": {
    "name": "ipython",
    "version": 3
   },
   "file_extension": ".py",
   "mimetype": "text/x-python",
   "name": "python",
   "nbconvert_exporter": "python",
   "pygments_lexer": "ipython3",
   "version": "3.9.1"
  }
 },
 "nbformat": 4,
 "nbformat_minor": 4
}

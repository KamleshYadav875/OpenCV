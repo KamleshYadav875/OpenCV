{
 "cells": [
  {
   "cell_type": "code",
   "execution_count": 1,
   "metadata": {},
   "outputs": [],
   "source": [
    "import cv2 #import opencv"
   ]
  },
  {
   "cell_type": "code",
   "execution_count": 3,
   "metadata": {},
   "outputs": [],
   "source": [
    "cap = cv2.VideoCapture('pedestrians.avi') # open video\n",
    "pedestrian_cascade = cv2.CascadeClassifier('pedestrian.xml') # creating cascade classifier of pedestrain\n",
    "\n",
    "while True:\n",
    "    ret, img = cap.read() # reading frame from video\n",
    "    if (type(img) == type(None)): # there is no frame then break the loop\n",
    "        break\n",
    "    gray = cv2.cvtColor(img, cv2.COLOR_BGR2GRAY) # converting color frame to black & white\n",
    "    pedestrian = pedestrian_cascade.detectMultiScale(gray,1.3,2) # detecting people \n",
    "\n",
    "    for(x,y,w,h) in pedestrian:\n",
    "        cv2.rectangle(img,(x,y),(x+w,y+h),(255,2555,0),4) # drawing rectangle \n",
    "        cv2.imshow('video', img)\n",
    "    \n",
    "    if cv2.waitKey(33) == 13: # press enter to stop\n",
    "        break\n",
    "\n",
    "cv2.destroyAllWindows()\n"
   ]
  }
 ],
 "metadata": {
  "kernelspec": {
   "display_name": "Python 3",
   "language": "python",
   "name": "python3"
  },
  "language_info": {
   "codemirror_mode": {
    "name": "ipython",
    "version": 3
   },
   "file_extension": ".py",
   "mimetype": "text/x-python",
   "name": "python",
   "nbconvert_exporter": "python",
   "pygments_lexer": "ipython3",
   "version": "3.9.1"
  }
 },
 "nbformat": 4,
 "nbformat_minor": 4
}
